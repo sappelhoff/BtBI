{
 "cells": [
  {
   "cell_type": "markdown",
   "metadata": {
    "toc": "true"
   },
   "source": [
    "# Table of Contents\n",
    " <p><div class=\"lev1\"><a href=\"#Short-codebook\"><span class=\"toc-item-num\">1&nbsp;&nbsp;</span>Short codebook</a></div><div class=\"lev1\"><a href=\"#Importing-libraries-and-data\"><span class=\"toc-item-num\">2&nbsp;&nbsp;</span>Importing libraries and data</a></div><div class=\"lev1\"><a href=\"#Sample-characteristics\"><span class=\"toc-item-num\">3&nbsp;&nbsp;</span>Sample characteristics</a></div><div class=\"lev1\"><a href=\"#Open-ended-question\"><span class=\"toc-item-num\">4&nbsp;&nbsp;</span>Open ended question</a></div><div class=\"lev1\"><a href=\"#Likelihood-of-simstim\"><span class=\"toc-item-num\">5&nbsp;&nbsp;</span>Likelihood of simstim</a></div><div class=\"lev1\"><a href=\"#Relating-technological-advance-and-likelihood-of-&quot;simstim&quot;\"><span class=\"toc-item-num\">6&nbsp;&nbsp;</span>Relating technological advance and likelihood of \"simstim\"</a></div><div class=\"lev1\"><a href=\"#Some-playing-around-with-scifi-exposure\"><span class=\"toc-item-num\">7&nbsp;&nbsp;</span>Some playing around with scifi exposure</a></div>"
   ]
  },
  {
   "cell_type": "markdown",
   "metadata": {},
   "source": [
    "# Short codebook\n",
    "\n",
    "See below the variable names and what they mean.\n",
    "\n",
    "\n",
    " - simstimLikely --> \"How likely is it that technologies such as “simstim” will exist in the future?\"\n",
    "    - 1 = technologies such as “simstim” will never exist\n",
    "    - 101 = technologies such as “simstim” will certainly exist\n",
    "\n",
    "\n",
    " - BtBItakePart --> \"As a participant, would you take part in research involving brain to brain interfacing (BtBI research)?\"\n",
    "    - 1 = Yes\n",
    "    - 2 = No\n",
    "\n",
    "\n",
    "- simstimTakePart --> \"Given the hypothetical situation that \"simstim\" were an available option for entertainment, would you indulge in it?\"\n",
    "    - 1 = Yes\n",
    "    - 2 = No\n",
    "\n",
    "\n",
    "- BtBIwhyTakePart --> \"Please provide your main reason for why you would or would not take part in BtBI research.\"\n",
    "\n",
    "\n",
    "- age --> \"What is your age?\"\n",
    "\n",
    "\n",
    "- sex --> \"Are you male or female?\"\n",
    "    - 1 = male\n",
    "    - 2 = female\n",
    "\n",
    "\n",
    "- scifiBooks --> \"I have read approximately ... different science-fiction books.\"\n",
    "\n",
    "\n",
    "- scifiMovies --> \"I have seen approximately ... different science-fiction movies.\"\n",
    "\n",
    "\n",
    "- techAdvanceFascinating --> \"Technological advance is rather ...\"\n",
    "    - 1 = scary\n",
    "    - 101 = fascinating"
   ]
  },
  {
   "cell_type": "markdown",
   "metadata": {},
   "source": [
    "# Importing libraries and data"
   ]
  },
  {
   "cell_type": "code",
   "execution_count": 1,
   "metadata": {
    "ExecuteTime": {
     "end_time": "2016-08-03T18:18:11.649370",
     "start_time": "2016-08-03T18:18:10.356082"
    },
    "collapsed": true
   },
   "outputs": [],
   "source": [
    "%matplotlib inline\n",
    "import os\n",
    "import numpy as np\n",
    "import pandas as pd\n",
    "from matplotlib import pyplot as plt\n",
    "import matplotlib.patches as mpatches\n",
    "from scipy import stats as stats\n",
    "from sklearn.decomposition import PCA\n",
    "\n"
   ]
  },
  {
   "cell_type": "code",
   "execution_count": 2,
   "metadata": {
    "ExecuteTime": {
     "end_time": "2016-08-03T18:18:11.659916",
     "start_time": "2016-08-03T18:18:11.651167"
    },
    "collapsed": false
   },
   "outputs": [
    {
     "data": {
      "text/plain": [
       "'/Users/stefanappelhoff/Desktop/2nd Year/Blog Entry 2/1 BtBI Data/analysis_of_data'"
      ]
     },
     "execution_count": 2,
     "metadata": {},
     "output_type": "execute_result"
    }
   ],
   "source": [
    "os.getcwd() # Place the data file here"
   ]
  },
  {
   "cell_type": "code",
   "execution_count": 3,
   "metadata": {
    "ExecuteTime": {
     "end_time": "2016-08-03T18:18:11.699282",
     "start_time": "2016-08-03T18:18:11.662540"
    },
    "collapsed": false
   },
   "outputs": [
    {
     "data": {
      "text/html": [
       "<div>\n",
       "<table border=\"1\" class=\"dataframe\">\n",
       "  <thead>\n",
       "    <tr style=\"text-align: right;\">\n",
       "      <th></th>\n",
       "      <th>simstimLikely</th>\n",
       "      <th>BtBItakePart</th>\n",
       "      <th>simstimTakePart</th>\n",
       "      <th>BtBIwhyTakePart</th>\n",
       "      <th>age</th>\n",
       "      <th>sex</th>\n",
       "      <th>scifiBooks</th>\n",
       "      <th>scifiMovies</th>\n",
       "      <th>techAdvanceFascinating</th>\n",
       "    </tr>\n",
       "  </thead>\n",
       "  <tbody>\n",
       "    <tr>\n",
       "      <th>0</th>\n",
       "      <td>69</td>\n",
       "      <td>1</td>\n",
       "      <td>1</td>\n",
       "      <td>If it was only about visual categorisation or ...</td>\n",
       "      <td>23</td>\n",
       "      <td>2</td>\n",
       "      <td>5.0</td>\n",
       "      <td>10.0</td>\n",
       "      <td>101</td>\n",
       "    </tr>\n",
       "    <tr>\n",
       "      <th>1</th>\n",
       "      <td>7</td>\n",
       "      <td>1</td>\n",
       "      <td>1</td>\n",
       "      <td>it would be fascinating to experience the effe...</td>\n",
       "      <td>25</td>\n",
       "      <td>2</td>\n",
       "      <td>5.0</td>\n",
       "      <td>7.0</td>\n",
       "      <td>49</td>\n",
       "    </tr>\n",
       "    <tr>\n",
       "      <th>2</th>\n",
       "      <td>77</td>\n",
       "      <td>1</td>\n",
       "      <td>1</td>\n",
       "      <td>I would like to experience the world in the sa...</td>\n",
       "      <td>30</td>\n",
       "      <td>2</td>\n",
       "      <td>5.0</td>\n",
       "      <td>20.0</td>\n",
       "      <td>76</td>\n",
       "    </tr>\n",
       "    <tr>\n",
       "      <th>3</th>\n",
       "      <td>96</td>\n",
       "      <td>1</td>\n",
       "      <td>1</td>\n",
       "      <td>Because the possibilities fascinate me</td>\n",
       "      <td>25</td>\n",
       "      <td>2</td>\n",
       "      <td>35.0</td>\n",
       "      <td>60.0</td>\n",
       "      <td>49</td>\n",
       "    </tr>\n",
       "    <tr>\n",
       "      <th>4</th>\n",
       "      <td>66</td>\n",
       "      <td>1</td>\n",
       "      <td>1</td>\n",
       "      <td>For progress !!! ;)</td>\n",
       "      <td>30</td>\n",
       "      <td>1</td>\n",
       "      <td>50.0</td>\n",
       "      <td>300.0</td>\n",
       "      <td>101</td>\n",
       "    </tr>\n",
       "    <tr>\n",
       "      <th>5</th>\n",
       "      <td>101</td>\n",
       "      <td>1</td>\n",
       "      <td>1</td>\n",
       "      <td>Depends on the technology.  I would not want a...</td>\n",
       "      <td>44</td>\n",
       "      <td>1</td>\n",
       "      <td>500.0</td>\n",
       "      <td>250.0</td>\n",
       "      <td>101</td>\n",
       "    </tr>\n",
       "    <tr>\n",
       "      <th>6</th>\n",
       "      <td>99</td>\n",
       "      <td>1</td>\n",
       "      <td>1</td>\n",
       "      <td>thats future of humnity. I'm neuroscientist so...</td>\n",
       "      <td>29</td>\n",
       "      <td>1</td>\n",
       "      <td>15.0</td>\n",
       "      <td>200.0</td>\n",
       "      <td>100</td>\n",
       "    </tr>\n",
       "    <tr>\n",
       "      <th>7</th>\n",
       "      <td>93</td>\n",
       "      <td>1</td>\n",
       "      <td>2</td>\n",
       "      <td>I would like to support developping new and he...</td>\n",
       "      <td>22</td>\n",
       "      <td>2</td>\n",
       "      <td>5.0</td>\n",
       "      <td>7.0</td>\n",
       "      <td>50</td>\n",
       "    </tr>\n",
       "    <tr>\n",
       "      <th>8</th>\n",
       "      <td>35</td>\n",
       "      <td>1</td>\n",
       "      <td>1</td>\n",
       "      <td>I'm fascinated by the idea of BtBI</td>\n",
       "      <td>24</td>\n",
       "      <td>2</td>\n",
       "      <td>5.0</td>\n",
       "      <td>10.0</td>\n",
       "      <td>73</td>\n",
       "    </tr>\n",
       "    <tr>\n",
       "      <th>9</th>\n",
       "      <td>96</td>\n",
       "      <td>1</td>\n",
       "      <td>1</td>\n",
       "      <td>because  i always been interested in research ...</td>\n",
       "      <td>23</td>\n",
       "      <td>1</td>\n",
       "      <td>NaN</td>\n",
       "      <td>NaN</td>\n",
       "      <td>93</td>\n",
       "    </tr>\n",
       "    <tr>\n",
       "      <th>10</th>\n",
       "      <td>75</td>\n",
       "      <td>1</td>\n",
       "      <td>1</td>\n",
       "      <td>I am fascinated by it, and would like to contr...</td>\n",
       "      <td>24</td>\n",
       "      <td>2</td>\n",
       "      <td>20.0</td>\n",
       "      <td>25.0</td>\n",
       "      <td>78</td>\n",
       "    </tr>\n",
       "    <tr>\n",
       "      <th>11</th>\n",
       "      <td>61</td>\n",
       "      <td>2</td>\n",
       "      <td>1</td>\n",
       "      <td>Maybe only if I was paid.</td>\n",
       "      <td>26</td>\n",
       "      <td>2</td>\n",
       "      <td>30.0</td>\n",
       "      <td>50.0</td>\n",
       "      <td>55</td>\n",
       "    </tr>\n",
       "    <tr>\n",
       "      <th>12</th>\n",
       "      <td>83</td>\n",
       "      <td>1</td>\n",
       "      <td>1</td>\n",
       "      <td>-</td>\n",
       "      <td>22</td>\n",
       "      <td>2</td>\n",
       "      <td>8.0</td>\n",
       "      <td>7.0</td>\n",
       "      <td>50</td>\n",
       "    </tr>\n",
       "    <tr>\n",
       "      <th>13</th>\n",
       "      <td>16</td>\n",
       "      <td>1</td>\n",
       "      <td>2</td>\n",
       "      <td>curiosity</td>\n",
       "      <td>24</td>\n",
       "      <td>2</td>\n",
       "      <td>4.0</td>\n",
       "      <td>20.0</td>\n",
       "      <td>49</td>\n",
       "    </tr>\n",
       "  </tbody>\n",
       "</table>\n",
       "</div>"
      ],
      "text/plain": [
       "    simstimLikely  BtBItakePart  simstimTakePart  \\\n",
       "0              69             1                1   \n",
       "1               7             1                1   \n",
       "2              77             1                1   \n",
       "3              96             1                1   \n",
       "4              66             1                1   \n",
       "5             101             1                1   \n",
       "6              99             1                1   \n",
       "7              93             1                2   \n",
       "8              35             1                1   \n",
       "9              96             1                1   \n",
       "10             75             1                1   \n",
       "11             61             2                1   \n",
       "12             83             1                1   \n",
       "13             16             1                2   \n",
       "\n",
       "                                      BtBIwhyTakePart  age  sex  scifiBooks  \\\n",
       "0   If it was only about visual categorisation or ...   23    2         5.0   \n",
       "1   it would be fascinating to experience the effe...   25    2         5.0   \n",
       "2   I would like to experience the world in the sa...   30    2         5.0   \n",
       "3              Because the possibilities fascinate me   25    2        35.0   \n",
       "4                                 For progress !!! ;)   30    1        50.0   \n",
       "5   Depends on the technology.  I would not want a...   44    1       500.0   \n",
       "6   thats future of humnity. I'm neuroscientist so...   29    1        15.0   \n",
       "7   I would like to support developping new and he...   22    2         5.0   \n",
       "8                  I'm fascinated by the idea of BtBI   24    2         5.0   \n",
       "9   because  i always been interested in research ...   23    1         NaN   \n",
       "10  I am fascinated by it, and would like to contr...   24    2        20.0   \n",
       "11                          Maybe only if I was paid.   26    2        30.0   \n",
       "12                                                  -   22    2         8.0   \n",
       "13                                          curiosity   24    2         4.0   \n",
       "\n",
       "    scifiMovies  techAdvanceFascinating  \n",
       "0          10.0                     101  \n",
       "1           7.0                      49  \n",
       "2          20.0                      76  \n",
       "3          60.0                      49  \n",
       "4         300.0                     101  \n",
       "5         250.0                     101  \n",
       "6         200.0                     100  \n",
       "7           7.0                      50  \n",
       "8          10.0                      73  \n",
       "9           NaN                      93  \n",
       "10         25.0                      78  \n",
       "11         50.0                      55  \n",
       "12          7.0                      50  \n",
       "13         20.0                      49  "
      ]
     },
     "execution_count": 3,
     "metadata": {},
     "output_type": "execute_result"
    }
   ],
   "source": [
    "fname = 'BtBI_data_030816.csv'\n",
    "\n",
    "df = pd.read_csv(fname, sep=';')\n",
    "\n",
    "df # Show us the data\n",
    "\n"
   ]
  },
  {
   "cell_type": "markdown",
   "metadata": {},
   "source": [
    "# Sample characteristics"
   ]
  },
  {
   "cell_type": "code",
   "execution_count": 4,
   "metadata": {
    "ExecuteTime": {
     "end_time": "2016-08-03T18:18:11.709688",
     "start_time": "2016-08-03T18:18:11.701831"
    },
    "collapsed": false
   },
   "outputs": [
    {
     "data": {
      "text/plain": [
       "2    10\n",
       "1     4\n",
       "Name: sex, dtype: int64"
      ]
     },
     "execution_count": 4,
     "metadata": {},
     "output_type": "execute_result"
    }
   ],
   "source": [
    "# 1=male, 2=female\n",
    "df['sex'].value_counts() "
   ]
  },
  {
   "cell_type": "code",
   "execution_count": 5,
   "metadata": {
    "ExecuteTime": {
     "end_time": "2016-08-03T18:18:11.744689",
     "start_time": "2016-08-03T18:18:11.711958"
    },
    "collapsed": false
   },
   "outputs": [
    {
     "data": {
      "text/html": [
       "<div>\n",
       "<table border=\"1\" class=\"dataframe\">\n",
       "  <thead>\n",
       "    <tr style=\"text-align: right;\">\n",
       "      <th></th>\n",
       "      <th>age</th>\n",
       "      <th>sex</th>\n",
       "      <th>simstimLikely</th>\n",
       "      <th>techAdvanceFascinating</th>\n",
       "    </tr>\n",
       "  </thead>\n",
       "  <tbody>\n",
       "    <tr>\n",
       "      <th>count</th>\n",
       "      <td>14.000000</td>\n",
       "      <td>14.000000</td>\n",
       "      <td>14.000000</td>\n",
       "      <td>14.000000</td>\n",
       "    </tr>\n",
       "    <tr>\n",
       "      <th>mean</th>\n",
       "      <td>26.500000</td>\n",
       "      <td>1.714286</td>\n",
       "      <td>69.571429</td>\n",
       "      <td>73.214286</td>\n",
       "    </tr>\n",
       "    <tr>\n",
       "      <th>std</th>\n",
       "      <td>5.721081</td>\n",
       "      <td>0.468807</td>\n",
       "      <td>30.548107</td>\n",
       "      <td>22.573567</td>\n",
       "    </tr>\n",
       "    <tr>\n",
       "      <th>min</th>\n",
       "      <td>22.000000</td>\n",
       "      <td>1.000000</td>\n",
       "      <td>7.000000</td>\n",
       "      <td>49.000000</td>\n",
       "    </tr>\n",
       "    <tr>\n",
       "      <th>25%</th>\n",
       "      <td>23.250000</td>\n",
       "      <td>1.250000</td>\n",
       "      <td>62.250000</td>\n",
       "      <td>50.000000</td>\n",
       "    </tr>\n",
       "    <tr>\n",
       "      <th>50%</th>\n",
       "      <td>24.500000</td>\n",
       "      <td>2.000000</td>\n",
       "      <td>76.000000</td>\n",
       "      <td>74.500000</td>\n",
       "    </tr>\n",
       "    <tr>\n",
       "      <th>75%</th>\n",
       "      <td>28.250000</td>\n",
       "      <td>2.000000</td>\n",
       "      <td>95.250000</td>\n",
       "      <td>98.250000</td>\n",
       "    </tr>\n",
       "    <tr>\n",
       "      <th>max</th>\n",
       "      <td>44.000000</td>\n",
       "      <td>2.000000</td>\n",
       "      <td>101.000000</td>\n",
       "      <td>101.000000</td>\n",
       "    </tr>\n",
       "  </tbody>\n",
       "</table>\n",
       "</div>"
      ],
      "text/plain": [
       "             age        sex  simstimLikely  techAdvanceFascinating\n",
       "count  14.000000  14.000000      14.000000               14.000000\n",
       "mean   26.500000   1.714286      69.571429               73.214286\n",
       "std     5.721081   0.468807      30.548107               22.573567\n",
       "min    22.000000   1.000000       7.000000               49.000000\n",
       "25%    23.250000   1.250000      62.250000               50.000000\n",
       "50%    24.500000   2.000000      76.000000               74.500000\n",
       "75%    28.250000   2.000000      95.250000               98.250000\n",
       "max    44.000000   2.000000     101.000000              101.000000"
      ]
     },
     "execution_count": 5,
     "metadata": {},
     "output_type": "execute_result"
    }
   ],
   "source": [
    "df[['age', 'sex', 'simstimLikely', 'techAdvanceFascinating']].describe()"
   ]
  },
  {
   "cell_type": "markdown",
   "metadata": {},
   "source": [
    "# Open ended question"
   ]
  },
  {
   "cell_type": "code",
   "execution_count": 6,
   "metadata": {
    "ExecuteTime": {
     "end_time": "2016-08-03T18:18:11.755049",
     "start_time": "2016-08-03T18:18:11.747400"
    },
    "collapsed": false
   },
   "outputs": [
    {
     "name": "stdout",
     "output_type": "stream",
     "text": [
      "0 ) If it was only about visual categorisation or sth similar, it'd be okay. If it's more elaborate, e.g., emotion transfer, then not - too personal \n",
      "\n",
      "1 ) it would be fascinating to experience the effects. However I would not participate in research that is potentially harming me. \n",
      "\n",
      "2 ) I would like to experience the world in the same way as another person does - everything is subjective and I believe that this would be a good way to better understand others.  \n",
      "\n",
      "3 ) Because the possibilities fascinate me \n",
      "\n",
      "4 ) For progress !!! ;) \n",
      "\n",
      "5 ) Depends on the technology.  I would not want anything with today's technology like plastic or metal or even that in neuromancer injected into my skull.   However, Microscopic organic smart cells that can be easily removed as well as implanted would be a possibility.  I would not be Patient Zero though.For the survey i answered Yes. \n",
      "\n",
      "6 ) thats future of humnity. I'm neuroscientist so thats job and hobby to see experiments like this. \n",
      "\n",
      "7 ) I would like to support developping new and helpful technologies and I would trust the researches that the experiments won't touch my private thoughts. \n",
      "\n",
      "8 ) I'm fascinated by the idea of BtBI \n",
      "\n",
      "9 ) because  i always been interested in research related to neuron & i always looking such opportunity.  \n",
      "\n",
      "10 ) I am fascinated by it, and would like to contribute to researching and improving this technology. \n",
      "\n",
      "11 ) Maybe only if I was paid. \n",
      "\n",
      "12 ) - \n",
      "\n",
      "13 ) curiosity \n",
      "\n"
     ]
    }
   ],
   "source": [
    "# Check out, what the participants shared in the open end question\n",
    "# \"Please provide your main reason for why you would or would not take part in BtBI research.\"\n",
    "# Only id #11 would not want to take part in BtBI research\n",
    "\n",
    "for i in range(14):\n",
    "    print(i, ')', df['BtBIwhyTakePart'][i], '\\n')"
   ]
  },
  {
   "cell_type": "markdown",
   "metadata": {
    "ExecuteTime": {
     "end_time": "2016-08-03T11:40:05.972813",
     "start_time": "2016-08-03T11:40:05.664555"
    }
   },
   "source": [
    "# Likelihood of simstim"
   ]
  },
  {
   "cell_type": "code",
   "execution_count": 7,
   "metadata": {
    "ExecuteTime": {
     "end_time": "2016-08-03T18:18:12.155313",
     "start_time": "2016-08-03T18:18:11.757645"
    },
    "collapsed": false
   },
   "outputs": [
    {
     "data": {
      "image/png": "[encoded data removed]",
      "text/plain": [
       "<matplotlib.figure.Figure at 0x1144f4898>"
      ]
     },
     "metadata": {},
     "output_type": "display_data"
    }
   ],
   "source": [
    "plt.figure(1,figsize=(7,7))\n",
    "r = plt.boxplot(df['simstimLikely'])\n",
    "\n",
    "# Set colors of boxplot\n",
    "plt.setp(r['boxes'], color='BLACK', lw=2)\n",
    "plt.setp(r['whiskers'], color='BLACK', lw=2)\n",
    "plt.setp(r['medians'], color='BLACK', lw=2)\n",
    "plt.setp(r['caps'], color='BLACK', lw=2)\n",
    "plt.setp(r['fliers'], color='BLACK', markersize=10)\n",
    "\n",
    "\n",
    "\n",
    "plt.ylim((0,110))\n",
    "\n",
    "plt.title('Likelihood of BtBI-like Technology in the Future\\n', fontsize=20)\n",
    "plt.xlabel('How likely is it that technologies such as “simstim” will exist in the future?', fontsize=12)\n",
    "plt.ylabel('1 = technologies such as “simstim” will never exist\\n101 = technologies such as “simstim” will certainly exist', fontsize=12)\n",
    "\n",
    "plt.savefig('simstim_Likely_box.jpg')"
   ]
  },
  {
   "cell_type": "markdown",
   "metadata": {},
   "source": [
    "# Relating technological advance and likelihood of \"simstim\""
   ]
  },
  {
   "cell_type": "code",
   "execution_count": 8,
   "metadata": {
    "ExecuteTime": {
     "end_time": "2016-08-03T18:18:12.695121",
     "start_time": "2016-08-03T18:18:12.157521"
    },
    "collapsed": false
   },
   "outputs": [
    {
     "name": "stdout",
     "output_type": "stream",
     "text": [
      "Pearson correlation coefficient: 0.4\n",
      "Coefficient of determination: 0.16\n",
      "p-value of least squares regression: 0.1551\n"
     ]
    },
    {
     "data": {
      "image/png": "[encoded data removed]",
      "text/plain": [
       "<matplotlib.figure.Figure at 0x1144ffef0>"
      ]
     },
     "metadata": {},
     "output_type": "display_data"
    }
   ],
   "source": [
    "# The data to be plotted\n",
    "x = df['techAdvanceFascinating']\n",
    "y = df['simstimLikely']\n",
    "\n",
    "# fit a regression line\n",
    "m, b, r_value, p_value, std_err = stats.linregress(x,y) \n",
    "\n",
    "\n",
    "# Plot the figure\n",
    "plt.figure(2, figsize=(14,7))\n",
    "\n",
    "plt.scatter(x, y, c=df['simstimTakePart'], s=50, cmap='viridis') # Plot our data, use another variable for coloring\n",
    "\n",
    "z = np.linspace(10,100,91) # plot the regression line over an interval wider than our data\n",
    "plt.plot(z, m*z + b, 'k')\n",
    "\n",
    "plt.xlim((0,110))\n",
    "plt.ylim((0,110))\n",
    "\n",
    "plt.title('Relating Technological Advance and Likelihood of \"simstim\"\\n',\n",
    "         fontsize = 20)\n",
    "plt.xlabel('Technological advance is rather ...\\n1 = scary\\n101 = fascinating', fontsize=12)\n",
    "plt.ylabel('Will technologies such as “simstim” exist in the future?\\n1 = not likely at all\\n101 = very likely',\n",
    "          fontsize=12)\n",
    "\n",
    "# Make a legend for the different colors of the dots\n",
    "cm = plt.get_cmap('viridis')\n",
    "would = mpatches.Patch(color=cm(1), label='Would take part in \"simstim\" if it existed')\n",
    "would_not = mpatches.Patch(color=cm(1000), label='Would not take part')\n",
    "plt.legend(handles=[would, would_not], loc=3)\n",
    "\n",
    "# Print out some more information about the regression\n",
    "print('Pearson correlation coefficient:',  round(r_value,2))\n",
    "print('Coefficient of determination:', round(r_value**2,2))\n",
    "print('p-value of least squares regression:', round(p_value,4))\n",
    "\n",
    "\n",
    "# Save plot\n",
    "plt.savefig('tech_likeli_regr.jpg')"
   ]
  },
  {
   "cell_type": "markdown",
   "metadata": {},
   "source": [
    "# Some playing around with scifi exposure"
   ]
  },
  {
   "cell_type": "code",
   "execution_count": 9,
   "metadata": {
    "ExecuteTime": {
     "end_time": "2016-08-03T18:18:13.040627",
     "start_time": "2016-08-03T18:18:12.697583"
    },
    "collapsed": false
   },
   "outputs": [
    {
     "name": "stdout",
     "output_type": "stream",
     "text": [
      "Person correlation: 0.8\n",
      "Coefficient of Determination: 0.64\n",
      "p-value of least squares regression: 0.001\n"
     ]
    },
    {
     "data": {
      "image/png": "[encoded data removed]",
      "text/plain": [
       "<matplotlib.figure.Figure at 0x116eeacf8>"
      ]
     },
     "metadata": {},
     "output_type": "display_data"
    }
   ],
   "source": [
    "# Scifi books vs. scifi movies\n",
    "\n",
    "df_noNA = df.dropna()\n",
    "\n",
    "x = df_noNA['scifiBooks']\n",
    "y = df_noNA['scifiMovies']\n",
    "\n",
    "m, b, r_value, p_value, std_err = stats.linregress(np.log(x),np.log(y)) \n",
    "\n",
    "\n",
    "plt.figure(3, figsize=(8,5))\n",
    "\n",
    "\n",
    "\n",
    "z=np.linspace(1,7,8)\n",
    "plt.plot(z, m*z + b, 'k')\n",
    "\n",
    "\n",
    "plt.scatter(np.log(x),np.log(y), c=df_noNA['simstimTakePart']) # log transform to bring outlier back to us :-)\n",
    "plt.title('Scatterplot Scifi Exposure', fontsize=20)\n",
    "plt.xlabel('LOG number of scifi books consumed', fontsize=12)\n",
    "plt.ylabel('LOG number of scifi movies consumed', fontsize=12)\n",
    "\n",
    "# Make a legend for the different colors of the dots\n",
    "cm = plt.get_cmap('viridis')\n",
    "would = mpatches.Patch(color=cm(1), label='Would take part in \"simstim\"')\n",
    "would_not = mpatches.Patch(color=cm(1000), label='Would not take part')\n",
    "plt.legend(handles=[would, would_not], loc=4)\n",
    "\n",
    "\n",
    "print('Person correlation:', round(r_value,2))\n",
    "print('Coefficient of Determination:', round(r_value**2,2))\n",
    "print('p-value of least squares regression:', round(p_value,4))\n",
    "\n",
    "\n"
   ]
  },
  {
   "cell_type": "code",
   "execution_count": 10,
   "metadata": {
    "ExecuteTime": {
     "end_time": "2016-08-03T18:18:13.050569",
     "start_time": "2016-08-03T18:18:13.043656"
    },
    "collapsed": false
   },
   "outputs": [],
   "source": [
    "# Do a PCA to get a single item from the two scifi-items\n",
    "\n",
    "q = PCA(n_components=1)\n",
    "\n",
    "pca = q.fit(np.log(np.asarray(df_noNA[['scifiBooks', 'scifiMovies']])))"
   ]
  },
  {
   "cell_type": "code",
   "execution_count": 11,
   "metadata": {
    "ExecuteTime": {
     "end_time": "2016-08-03T18:18:13.059037",
     "start_time": "2016-08-03T18:18:13.053030"
    },
    "collapsed": false
   },
   "outputs": [
    {
     "data": {
      "text/plain": [
       "array([ 0.90082673])"
      ]
     },
     "execution_count": 11,
     "metadata": {},
     "output_type": "execute_result"
    }
   ],
   "source": [
    "pca.explained_variance_ratio_ # 90% variance explained is nice"
   ]
  },
  {
   "cell_type": "code",
   "execution_count": 12,
   "metadata": {
    "ExecuteTime": {
     "end_time": "2016-08-03T18:18:13.071964",
     "start_time": "2016-08-03T18:18:13.062550"
    },
    "collapsed": false
   },
   "outputs": [
    {
     "data": {
      "text/plain": [
       "array([[-1.502776  ],\n",
       "       [-1.75541247],\n",
       "       [-1.01181283],\n",
       "       [ 1.13996605],\n",
       "       [ 2.53172456],\n",
       "       [ 4.02798235],\n",
       "       [ 1.39464346],\n",
       "       [-1.75541247],\n",
       "       [-1.502776  ],\n",
       "       [ 0.12482911],\n",
       "       [ 0.90201066],\n",
       "       [-1.42363626],\n",
       "       [-1.16933017]])"
      ]
     },
     "execution_count": 12,
     "metadata": {},
     "output_type": "execute_result"
    }
   ],
   "source": [
    "# Now get a single item: scifi exposure\n",
    "pca.fit_transform(np.log(np.asarray(df_noNA[['scifiBooks', 'scifiMovies']])))"
   ]
  },
  {
   "cell_type": "code",
   "execution_count": 13,
   "metadata": {
    "ExecuteTime": {
     "end_time": "2016-08-03T18:18:13.503817",
     "start_time": "2016-08-03T18:18:13.074463"
    },
    "collapsed": false
   },
   "outputs": [
    {
     "name": "stdout",
     "output_type": "stream",
     "text": [
      "Person correlation: 0.49\n",
      "Coefficient of Determination: 0.24\n",
      "p-value of least squares regression: 0.0878\n"
     ]
    },
    {
     "data": {
      "image/png": "[encoded data removed]",
      "text/plain": [
       "<matplotlib.figure.Figure at 0x116fc4b70>"
      ]
     },
     "metadata": {},
     "output_type": "display_data"
    }
   ],
   "source": [
    "# Check the relationship between scifi exposure and likelihood of simstim\n",
    "\n",
    "x = pca.fit_transform(np.log(np.asarray(df_noNA[['scifiBooks', 'scifiMovies']])))\n",
    "y = np.asarray(df_noNA['simstimLikely'])\n",
    "\n",
    "plt.figure(4, figsize=(14,7))\n",
    "\n",
    "\n",
    "plt.scatter(x,y, c=df_noNA['simstimTakePart'])\n",
    "\n",
    "m, b, r_value, p_value, std_err = stats.linregress(x.squeeze(),y) \n",
    "\n",
    "z=np.linspace(-3,5,9)\n",
    "plt.plot(z, m*z + b, 'k')\n",
    "\n",
    "# Make a legend for the different colors of the dots\n",
    "cm = plt.get_cmap('viridis')\n",
    "would = mpatches.Patch(color=cm(1), label='Would take part in \"simstim\"')\n",
    "would_not = mpatches.Patch(color=cm(1000), label='Would not take part')\n",
    "plt.legend(handles=[would, would_not], loc=4)\n",
    "\n",
    "\n",
    "plt.ylim((0,110))\n",
    "\n",
    "plt.title('Relating \"Scifi Exposure\" and Likelihood of \"simstim\"\\n',\n",
    "         fontsize = 20)\n",
    "plt.xlabel('\"Scifi Exposure\"', fontsize=12)\n",
    "plt.ylabel('Will technologies such as “simstim” exist in the future?\\n1 = not likely at all\\n101 = very likely',\n",
    "          fontsize=12)\n",
    "\n",
    "\n",
    "\n",
    "\n",
    "print('Person correlation:', round(r_value,2))\n",
    "print('Coefficient of Determination:', round(r_value**2,2))\n",
    "print('p-value of least squares regression:', round(p_value,4))\n",
    "\n",
    "\n"
   ]
  },
  {
   "cell_type": "code",
   "execution_count": 14,
   "metadata": {
    "ExecuteTime": {
     "end_time": "2016-08-03T18:18:13.513907",
     "start_time": "2016-08-03T18:18:13.506189"
    },
    "collapsed": false
   },
   "outputs": [
    {
     "name": "stdout",
     "output_type": "stream",
     "text": [
      "Pearson correlation coefficient: 0.54\n",
      "p-value: 0.0551\n"
     ]
    }
   ],
   "source": [
    "# Correlation of Scifi exposure with attitude towards advance of technology\n",
    "r_value, p_value = stats.pearsonr(np.asarray(df_noNA['techAdvanceFascinating']), x.squeeze())\n",
    "\n",
    "print('Pearson correlation coefficient:', round(r_value,2))\n",
    "print('p-value:', round(p_value,4))"
   ]
  },
  {
   "cell_type": "code",
   "execution_count": null,
   "metadata": {
    "collapsed": true
   },
   "outputs": [],
   "source": []
  }
 ],
 "metadata": {
  "kernelspec": {
   "display_name": "Python 3",
   "language": "python",
   "name": "python3"
  },
  "language_info": {
   "codemirror_mode": {
    "name": "ipython",
    "version": 3
   },
   "file_extension": ".py",
   "mimetype": "text/x-python",
   "name": "python",
   "nbconvert_exporter": "python",
   "pygments_lexer": "ipython3",
   "version": "3.5.1"
  },
  "toc": {
   "toc_cell": true,
   "toc_number_sections": true,
   "toc_threshold": 6,
   "toc_window_display": false
  }
 },
 "nbformat": 4,
 "nbformat_minor": 0
}
